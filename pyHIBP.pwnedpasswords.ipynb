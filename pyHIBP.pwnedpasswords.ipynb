{
 "cells": [
  {
   "cell_type": "markdown",
   "metadata": {},
   "source": [
    "To save on file space in the git repository, the cell outputs below have been cleared. Just click the restart/run button to populate the below cells."
   ]
  },
  {
   "cell_type": "code",
   "execution_count": null,
   "metadata": {},
   "outputs": [],
   "source": [
    "import hashlib\n",
    "from pyHIBP import pwnedpasswords as pw"
   ]
  },
  {
   "cell_type": "code",
   "execution_count": null,
   "metadata": {},
   "outputs": [],
   "source": [
    "\"\"\"\n",
    "Query the HIBP API to see if a password has been breached.\n",
    "\"\"\"\n",
    "resp = pw.is_password_breached(password=\"secret\")\n",
    "\n",
    "if resp:\n",
    "    print(\"Password breached! It appears {0} time(s) in the HIBP database.\".format(resp))\n",
    "else:\n",
    "    # A non-matching password will be falsy (integer zero (0) is the return value)\n",
    "    print(\"Nice! That password hasn't been breached.\")"
   ]
  },
  {
   "cell_type": "code",
   "execution_count": null,
   "metadata": {},
   "outputs": [],
   "source": [
    "\"\"\"\n",
    "While a password is converted to a SHA-1 hash, then partially sent to the HIBP backend, \n",
    "we can also pass in a SHA-1 hash directly.\n",
    "\"\"\"\n",
    "hashed = hashlib.sha1(\"secret1\".encode(\"utf-8\")).hexdigest()\n",
    "print(\"Using the SHA-1 hash: {0}\".format(hashed))\n",
    "\n",
    "# NB: We're actually only sending hashed[0:5] to the HIBP backend\n",
    "resp = pw.is_password_breached(sha1_hash=hashed)\n",
    "\n",
    "if resp:\n",
    "    print(\"Password breached! It appears {0} times in the HIBP database.\".format(resp))\n",
    "else:\n",
    "    print(\"Nice! That password hasn't been breached.\")"
   ]
  },
  {
   "cell_type": "code",
   "execution_count": null,
   "metadata": {},
   "outputs": [],
   "source": [
    "\"\"\"\n",
    "Or, the calling application can opt to manually check the resulting partial hashes via the k-anonymity model.\n",
    "\n",
    "If the full SHA-1 hash is provided, or the original password (which is then converted to a hash), the pwnedpasswords\n",
    "module does the processing for determining if a password is breached. In fact, this is the only way we check passwords.\n",
    "So, a secure password remains secure, as we only send five characters of a resulting SHA-1 hash.\n",
    "\n",
    "See < https://www.troyhunt.com/ive-just-launched-pwned-passwords-version-2/ > for more information.\n",
    "\"\"\"\n",
    "hashed = hashlib.sha1(\"secret1\".encode(\"utf-8\")).hexdigest()\n",
    "print(\"Using the SHA-1 partial hash: {0}\".format(hashed[0:5]))\n",
    "\n",
    "# NB: We're actually only sending hashed[0:5] to the HIBP backend\n",
    "resp = pw.is_password_breached(first_5_hash_chars=hashed[0:5])\n",
    "\n",
    "# Since we're only sending the first five characters, the calling application needs to parse through the resulting\n",
    "# list, and find the remainder of the hash, if present, to determine if the password in question was breached.\n",
    "\n",
    "print(\"There are {0} partial SHA-1 hashes in the response which matched the leading prefix of {1}.\".format(len(resp), hashed[0:5].upper()))\n",
    "print()\n",
    "\n",
    "# Since we only passed a partial hash, we need to manually look for the corresponding hash in the response.\n",
    "for partial_hash in resp:\n",
    "    if hashed[5:] in partial_hash.lower():\n",
    "        print(\"The partial hash which the HIBP Pwned Passwords API returned was: {0}\".format(partial_hash.split(':')[0]))\n",
    "        print(\"It was found used {0} time(s).\".format(partial_hash.split(':')[1]))\n",
    "        print(\"Inside the ``resp`` list, it would look like the following line...\")\n",
    "        print()\n",
    "        print(partial_hash)"
   ]
  }
 ],
 "metadata": {
  "kernelspec": {
   "display_name": "Python 3",
   "language": "python",
   "name": "python3"
  },
  "language_info": {
   "codemirror_mode": {
    "name": "ipython",
    "version": 3
   },
   "file_extension": ".py",
   "mimetype": "text/x-python",
   "name": "python",
   "nbconvert_exporter": "python",
   "pygments_lexer": "ipython3",
   "version": "3.6.6"
  }
 },
 "nbformat": 4,
 "nbformat_minor": 2
}
