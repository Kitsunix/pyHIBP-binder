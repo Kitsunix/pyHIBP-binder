{
 "cells": [
  {
   "cell_type": "markdown",
   "metadata": {},
   "source": [
    "To save on file space in the git repository, the cell outputs below have been cleared. Just click the restart/run button to populate the below cells."
   ]
  },
  {
   "cell_type": "code",
   "execution_count": null,
   "metadata": {},
   "outputs": [],
   "source": [
    "import hashlib\n",
    "from pyhibp import pwnedpasswords as pw\n",
    "from pyhibp import set_user_agent"
   ]
  },
  {
   "cell_type": "code",
   "execution_count": null,
   "metadata": {},
   "outputs": [],
   "source": [
    "# The User Agent must be set prior to calling any additional functions.\n",
    "# Per the API: \"The user agent should accurately describe the nature of the API consumer\n",
    "#   such that it can be clearly identified in the request. Not doing so may result\n",
    "#   in the request being blocked.\"\n",
    "set_user_agent(ua=\"pyHIBP-binder/An example Jupyter Notebook showing how to use the pwnedpasswords module of pyhibp\")"
   ]
  },
  {
   "cell_type": "code",
   "execution_count": null,
   "metadata": {},
   "outputs": [],
   "source": [
    "\"\"\"\n",
    "Query the HIBP API to see if a password has been breached.\n",
    "\"\"\"\n",
    "resp = pw.is_password_breached(password=\"secret\")\n",
    "\n",
    "if resp:\n",
    "    print(\"Password breached! It appears {0} time(s) in the HIBP database.\".format(resp))\n",
    "else:\n",
    "    # A non-matching password will be falsy (integer zero (0) is the return value)\n",
    "    print(\"Nice! That password hasn't been breached.\")"
   ]
  },
  {
   "cell_type": "code",
   "execution_count": null,
   "metadata": {},
   "outputs": [],
   "source": [
    "\"\"\"\n",
    "While a password is converted to a SHA-1 hash, then partially sent to the HIBP backend, \n",
    "we can also pass in a SHA-1 hash directly.\n",
    "\"\"\"\n",
    "hashed = hashlib.sha1(\"secret1\".encode(\"utf-8\")).hexdigest()\n",
    "print(\"Using the SHA-1 hash: {0}\".format(hashed))\n",
    "\n",
    "# NB: We're actually only sending hashed[0:5] to the HIBP backend\n",
    "resp = pw.is_password_breached(sha1_hash=hashed)\n",
    "\n",
    "if resp:\n",
    "    print(\"Password breached! It appears {0} times in the HIBP database.\".format(resp))\n",
    "else:\n",
    "    print(\"Nice! That password hasn't been breached.\")"
   ]
  },
  {
   "cell_type": "code",
   "execution_count": null,
   "metadata": {},
   "outputs": [],
   "source": [
    "\"\"\"\n",
    "Optionally, `pwnedpasswords` can be used to search hash suffixes via ``suffix_search(hash_prefix=prefix)``, by supplying\n",
    "the hash prefix of a SHA-1 hash (that is, the first five hash characters).\n",
    "\n",
    "When called, the HIBP API returns a listing of hash suffixes, along with the number of times that suffix has been seen.\n",
    "The format of the returned data is in the format of ``suffix:count``; for example, for the prefix of ``42042``, returned\n",
    "list items might be:\n",
    "\n",
    "```\n",
    "    005F4A4B9265A2BABE10B1A9AB9409EA3F0:1\n",
    "    00D6F0319225107BD5736B72717BD381660:8\n",
    "    01355DCE0B54F0E8DBBBA8F7B9A9872858A:15\n",
    "    0163E1C872A64A62625F5EB2F3807B7F90B:2\n",
    "    020DDE278E6A9C05B356C929F254CE6AED5:1\n",
    "    021EFB4FAE348050D9EDCD10F8B6A87C957:4\n",
    "```\n",
    "\n",
    "Consequently, the HIBP API is never provided the full SHA-1 hash for a queried password, and thus remains undisclosed.\n",
    "Internally, ``is_password_breached`` also uses this method so as to avoid disclosing a complete password hash outside\n",
    "of the calling application.\n",
    "\n",
    "For additional information on the k-anonymity model used here,\n",
    "see < https://www.troyhunt.com/ive-just-launched-pwned-passwords-version-2/ > for more information.\n",
    "\"\"\"\n",
    "hashed = hashlib.sha1(\"secret1\".encode(\"utf-8\")).hexdigest()\n",
    "print(\"Using the SHA-1 partial hash: {0}\".format(hashed[0:5]))\n",
    "\n",
    "# NB: We're actually only sending hashed[0:5] to the HIBP backend\n",
    "resp = pw.suffix_search(hash_prefix=hashed[0:5])\n",
    "\n",
    "# Since we're only sending the first five characters, the calling application needs to parse through the resulting\n",
    "# list, and find the remainder of the hash, if present, to determine if the password in question was breached.\n",
    "\n",
    "print(\"There are {0} partial SHA-1 hashes in the response which matched the leading prefix of {1}.\".format(len(resp), hashed[0:5].upper()))\n",
    "print()\n",
    "\n",
    "# Since we only passed a partial hash, we need to manually look for the corresponding hash in the response.\n",
    "for partial_hash in resp:\n",
    "    if hashed[5:] in partial_hash.lower():\n",
    "        print(\"The partial hash which the HIBP Pwned Passwords API returned was: {0}\".format(partial_hash.split(':')[0]))\n",
    "        print(\"It was found used {0} time(s).\".format(partial_hash.split(':')[1]))\n",
    "        print(\"Inside the ``resp`` list, it would look like the following line...\")\n",
    "        print()\n",
    "        print(partial_hash)"
   ]
  }
 ],
 "metadata": {
  "kernelspec": {
   "display_name": "Python 3",
   "language": "python",
   "name": "python3"
  },
  "language_info": {
   "codemirror_mode": {
    "name": "ipython",
    "version": 3
   },
   "file_extension": ".py",
   "mimetype": "text/x-python",
   "name": "python",
   "nbconvert_exporter": "python",
   "pygments_lexer": "ipython3",
   "version": "3.6.8"
  }
 },
 "nbformat": 4,
 "nbformat_minor": 2
}
