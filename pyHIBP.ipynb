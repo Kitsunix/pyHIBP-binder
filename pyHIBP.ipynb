{
 "cells": [
  {
   "cell_type": "markdown",
   "metadata": {},
   "source": [
    "To save on file space in the git repository, the cell outputs below have been cleared. Just click the restart/run button to populate the below cells."
   ]
  },
  {
   "cell_type": "code",
   "execution_count": null,
   "metadata": {},
   "outputs": [],
   "source": [
    "import time\n",
    "import pyHIBP\n",
    "\n",
    "def rate_limit():\n",
    "    # Make a function to avoid hitting the HIBP API rate limit\n",
    "    time.sleep(2)"
   ]
  },
  {
   "cell_type": "code",
   "execution_count": null,
   "metadata": {},
   "outputs": [],
   "source": [
    "# Get breaches that affect a given account, truncate the response to the breach names, and include unverified breaches\n",
    "resp = pyHIBP.get_account_breaches(account=\"test@example.com\", truncate_response=True, include_unverified=True)\n",
    "print(resp)"
   ]
  },
  {
   "cell_type": "code",
   "execution_count": null,
   "metadata": {},
   "outputs": [],
   "source": [
    "rate_limit()\n",
    "# Get all breach information from the HIBP database\n",
    "resp = pyHIBP.get_all_breaches()\n",
    "print(resp)"
   ]
  },
  {
   "cell_type": "code",
   "execution_count": null,
   "metadata": {},
   "outputs": [],
   "source": [
    "rate_limit()\n",
    "\n",
    "# Get a single breach\n",
    "resp = pyHIBP.get_single_breach(breach_name=\"Adobe\")\n",
    "print(resp)"
   ]
  },
  {
   "cell_type": "code",
   "execution_count": null,
   "metadata": {},
   "outputs": [],
   "source": [
    "rate_limit()\n",
    "\n",
    "# Get pastes affecting a given email address\n",
    "resp = pyHIBP.get_pastes(email_address=\"test@example.com\")\n",
    "print(resp)"
   ]
  },
  {
   "cell_type": "code",
   "execution_count": null,
   "metadata": {},
   "outputs": [],
   "source": [
    "rate_limit()\n",
    "\n",
    "# Get data classes in the HIBP system\n",
    "resp = pyHIBP.get_data_classes()\n",
    "print(resp)"
   ]
  }
 ],
 "metadata": {
  "kernelspec": {
   "display_name": "Python 3",
   "language": "python",
   "name": "python3"
  },
  "language_info": {
   "codemirror_mode": {
    "name": "ipython",
    "version": 3
   },
   "file_extension": ".py",
   "mimetype": "text/x-python",
   "name": "python",
   "nbconvert_exporter": "python",
   "pygments_lexer": "ipython3",
   "version": "3.5.3"
  }
 },
 "nbformat": 4,
 "nbformat_minor": 2
}
