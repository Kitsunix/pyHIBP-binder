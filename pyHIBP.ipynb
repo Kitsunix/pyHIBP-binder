{
 "cells": [
  {
   "cell_type": "markdown",
   "metadata": {},
   "source": [
    "To save on file space in the git repository, the cell outputs below have been cleared. Just click the restart/run button to populate the below cells."
   ]
  },
  {
   "cell_type": "code",
   "execution_count": null,
   "metadata": {},
   "outputs": [],
   "source": [
    "import time\n",
    "import pyhibp\n",
    "\n",
    "\"\"\"\n",
    "If you have an API key, provide it here to use the account/email based queries.\n",
    "This applies to the following functions:\n",
    "  - get_account_breaches\n",
    "  - get_pastes\n",
    "\n",
    "Keys may be purchased at https://haveibeenpwned.com/API/Key\n",
    "\"\"\"\n",
    "YOUR_API_KEY = None\n",
    "if YOUR_API_KEY is not None:\n",
    "    pyhibp.set_api_key(key=YOUR_API_KEY)\n",
    "\n",
    "def rate_limit():\n",
    "    # Make a function to avoid hitting the HIBP API rate limit\n",
    "    time.sleep(2)"
   ]
  },
  {
   "cell_type": "code",
   "execution_count": null,
   "metadata": {},
   "outputs": [],
   "source": [
    "# The User Agent must be set prior to calling any additional functions.\n",
    "# Per the API: \"The user agent should accurately describe the nature of the API consumer\n",
    "#   such that it can be clearly identified in the request. Not doing so may result\n",
    "#   in the request being blocked.\"\n",
    "pyhibp.set_user_agent(ua=\"pyHIBP-binder/An example Jupyter Notebook showing how to use pyhibp\")"
   ]
  },
  {
   "cell_type": "code",
   "execution_count": null,
   "metadata": {},
   "outputs": [],
   "source": [
    "rate_limit()\n",
    "# Get all breach information from the HIBP database\n",
    "resp = pyhibp.get_all_breaches()\n",
    "print(resp)"
   ]
  },
  {
   "cell_type": "code",
   "execution_count": null,
   "metadata": {},
   "outputs": [],
   "source": [
    "rate_limit()\n",
    "\n",
    "# Get a single breach\n",
    "resp = pyhibp.get_single_breach(breach_name=\"Adobe\")\n",
    "print(resp)"
   ]
  },
  {
   "cell_type": "code",
   "execution_count": null,
   "metadata": {},
   "outputs": [],
   "source": [
    "rate_limit()\n",
    "\n",
    "# Get data classes in the HIBP system\n",
    "resp = pyhibp.get_data_classes()\n",
    "print(resp)"
   ]
  },
  {
   "cell_type": "code",
   "execution_count": null,
   "metadata": {},
   "outputs": [],
   "source": [
    "if YOUR_API_KEY is not None:\n",
    "    # API Key Required. Get breaches that affect a given account, truncate the response to the breach names\n",
    "    #   and include unverified breaches\n",
    "    rate_limit()\n",
    "    resp = pyhibp.get_account_breaches(account=\"test@example.com\", truncate_response=True, include_unverified=True)\n",
    "    print(resp)"
   ]
  },
  {
   "cell_type": "code",
   "execution_count": null,
   "metadata": {},
   "outputs": [],
   "source": [
    "if YOUR_API_KEY is not None:\n",
    "    # API Key Required. Get pastes affecting a given email address\n",
    "    rate_limit()\n",
    "    resp = pyhibp.get_pastes(email_address=\"test@example.com\")\n",
    "    print(resp)"
   ]
  }
 ],
 "metadata": {
  "kernelspec": {
   "display_name": "Python 3",
   "language": "python",
   "name": "python3"
  },
  "language_info": {
   "codemirror_mode": {
    "name": "ipython",
    "version": 3
   },
   "file_extension": ".py",
   "mimetype": "text/x-python",
   "name": "python",
   "nbconvert_exporter": "python",
   "pygments_lexer": "ipython3",
   "version": "3.6.8"
  }
 },
 "nbformat": 4,
 "nbformat_minor": 2
}
